{
 "cells": [
  {
   "cell_type": "code",
   "execution_count": 1,
   "id": "a6c48a6f",
   "metadata": {},
   "outputs": [],
   "source": [
    "import pandas as pd\n",
    "import numpy as np\n",
    "import matplotlib.pyplot as plt\n",
    "import seaborn as sns"
   ]
  },
  {
   "cell_type": "code",
   "execution_count": 2,
   "id": "8d0f7fa7",
   "metadata": {},
   "outputs": [],
   "source": [
    "data = pd.read_csv('Ecommerce Customers.csv')"
   ]
  },
  {
   "cell_type": "code",
   "execution_count": 3,
   "id": "c317a3a3",
   "metadata": {},
   "outputs": [
    {
     "data": {
      "text/html": [
       "<div>\n",
       "<style scoped>\n",
       "    .dataframe tbody tr th:only-of-type {\n",
       "        vertical-align: middle;\n",
       "    }\n",
       "\n",
       "    .dataframe tbody tr th {\n",
       "        vertical-align: top;\n",
       "    }\n",
       "\n",
       "    .dataframe thead th {\n",
       "        text-align: right;\n",
       "    }\n",
       "</style>\n",
       "<table border=\"1\" class=\"dataframe\">\n",
       "  <thead>\n",
       "    <tr style=\"text-align: right;\">\n",
       "      <th></th>\n",
       "      <th>Email</th>\n",
       "      <th>Address</th>\n",
       "      <th>Avatar</th>\n",
       "      <th>Avg. Session Length</th>\n",
       "      <th>Time on App</th>\n",
       "      <th>Time on Website</th>\n",
       "      <th>Length of Membership</th>\n",
       "      <th>Yearly Amount Spent</th>\n",
       "    </tr>\n",
       "  </thead>\n",
       "  <tbody>\n",
       "    <tr>\n",
       "      <th>0</th>\n",
       "      <td>mstephenson@fernandez.com</td>\n",
       "      <td>835 Frank Tunnel\\nWrightmouth, MI 82180-9605</td>\n",
       "      <td>Violet</td>\n",
       "      <td>34.497268</td>\n",
       "      <td>12.655651</td>\n",
       "      <td>39.577668</td>\n",
       "      <td>4.082621</td>\n",
       "      <td>587.951054</td>\n",
       "    </tr>\n",
       "    <tr>\n",
       "      <th>1</th>\n",
       "      <td>hduke@hotmail.com</td>\n",
       "      <td>4547 Archer Common\\nDiazchester, CA 06566-8576</td>\n",
       "      <td>DarkGreen</td>\n",
       "      <td>31.926272</td>\n",
       "      <td>11.109461</td>\n",
       "      <td>37.268959</td>\n",
       "      <td>2.664034</td>\n",
       "      <td>392.204933</td>\n",
       "    </tr>\n",
       "    <tr>\n",
       "      <th>2</th>\n",
       "      <td>pallen@yahoo.com</td>\n",
       "      <td>24645 Valerie Unions Suite 582\\nCobbborough, D...</td>\n",
       "      <td>Bisque</td>\n",
       "      <td>33.000915</td>\n",
       "      <td>11.330278</td>\n",
       "      <td>37.110597</td>\n",
       "      <td>4.104543</td>\n",
       "      <td>487.547505</td>\n",
       "    </tr>\n",
       "    <tr>\n",
       "      <th>3</th>\n",
       "      <td>riverarebecca@gmail.com</td>\n",
       "      <td>1414 David Throughway\\nPort Jason, OH 22070-1220</td>\n",
       "      <td>SaddleBrown</td>\n",
       "      <td>34.305557</td>\n",
       "      <td>13.717514</td>\n",
       "      <td>36.721283</td>\n",
       "      <td>3.120179</td>\n",
       "      <td>581.852344</td>\n",
       "    </tr>\n",
       "    <tr>\n",
       "      <th>4</th>\n",
       "      <td>mstephens@davidson-herman.com</td>\n",
       "      <td>14023 Rodriguez Passage\\nPort Jacobville, PR 3...</td>\n",
       "      <td>MediumAquaMarine</td>\n",
       "      <td>33.330673</td>\n",
       "      <td>12.795189</td>\n",
       "      <td>37.536653</td>\n",
       "      <td>4.446308</td>\n",
       "      <td>599.406092</td>\n",
       "    </tr>\n",
       "  </tbody>\n",
       "</table>\n",
       "</div>"
      ],
      "text/plain": [
       "                           Email  \\\n",
       "0      mstephenson@fernandez.com   \n",
       "1              hduke@hotmail.com   \n",
       "2               pallen@yahoo.com   \n",
       "3        riverarebecca@gmail.com   \n",
       "4  mstephens@davidson-herman.com   \n",
       "\n",
       "                                             Address            Avatar  \\\n",
       "0       835 Frank Tunnel\\nWrightmouth, MI 82180-9605            Violet   \n",
       "1     4547 Archer Common\\nDiazchester, CA 06566-8576         DarkGreen   \n",
       "2  24645 Valerie Unions Suite 582\\nCobbborough, D...            Bisque   \n",
       "3   1414 David Throughway\\nPort Jason, OH 22070-1220       SaddleBrown   \n",
       "4  14023 Rodriguez Passage\\nPort Jacobville, PR 3...  MediumAquaMarine   \n",
       "\n",
       "   Avg. Session Length  Time on App  Time on Website  Length of Membership  \\\n",
       "0            34.497268    12.655651        39.577668              4.082621   \n",
       "1            31.926272    11.109461        37.268959              2.664034   \n",
       "2            33.000915    11.330278        37.110597              4.104543   \n",
       "3            34.305557    13.717514        36.721283              3.120179   \n",
       "4            33.330673    12.795189        37.536653              4.446308   \n",
       "\n",
       "   Yearly Amount Spent  \n",
       "0           587.951054  \n",
       "1           392.204933  \n",
       "2           487.547505  \n",
       "3           581.852344  \n",
       "4           599.406092  "
      ]
     },
     "execution_count": 3,
     "metadata": {},
     "output_type": "execute_result"
    }
   ],
   "source": [
    "data.head()"
   ]
  },
  {
   "cell_type": "code",
   "execution_count": 4,
   "id": "b66bd0fc",
   "metadata": {
    "scrolled": true
   },
   "outputs": [
    {
     "data": {
      "text/html": [
       "<div>\n",
       "<style scoped>\n",
       "    .dataframe tbody tr th:only-of-type {\n",
       "        vertical-align: middle;\n",
       "    }\n",
       "\n",
       "    .dataframe tbody tr th {\n",
       "        vertical-align: top;\n",
       "    }\n",
       "\n",
       "    .dataframe thead th {\n",
       "        text-align: right;\n",
       "    }\n",
       "</style>\n",
       "<table border=\"1\" class=\"dataframe\">\n",
       "  <thead>\n",
       "    <tr style=\"text-align: right;\">\n",
       "      <th></th>\n",
       "      <th>Email</th>\n",
       "      <th>Address</th>\n",
       "      <th>Avatar</th>\n",
       "      <th>Avg. Session Length</th>\n",
       "      <th>Time on App</th>\n",
       "      <th>Time on Website</th>\n",
       "      <th>Length of Membership</th>\n",
       "      <th>Yearly Amount Spent</th>\n",
       "    </tr>\n",
       "  </thead>\n",
       "  <tbody>\n",
       "    <tr>\n",
       "      <th>495</th>\n",
       "      <td>lewisjessica@craig-evans.com</td>\n",
       "      <td>4483 Jones Motorway Suite 872\\nLake Jamiefurt,...</td>\n",
       "      <td>Tan</td>\n",
       "      <td>33.237660</td>\n",
       "      <td>13.566160</td>\n",
       "      <td>36.417985</td>\n",
       "      <td>3.746573</td>\n",
       "      <td>573.847438</td>\n",
       "    </tr>\n",
       "    <tr>\n",
       "      <th>496</th>\n",
       "      <td>katrina56@gmail.com</td>\n",
       "      <td>172 Owen Divide Suite 497\\nWest Richard, CA 19320</td>\n",
       "      <td>PaleVioletRed</td>\n",
       "      <td>34.702529</td>\n",
       "      <td>11.695736</td>\n",
       "      <td>37.190268</td>\n",
       "      <td>3.576526</td>\n",
       "      <td>529.049004</td>\n",
       "    </tr>\n",
       "    <tr>\n",
       "      <th>497</th>\n",
       "      <td>dale88@hotmail.com</td>\n",
       "      <td>0787 Andrews Ranch Apt. 633\\nSouth Chadburgh, ...</td>\n",
       "      <td>Cornsilk</td>\n",
       "      <td>32.646777</td>\n",
       "      <td>11.499409</td>\n",
       "      <td>38.332576</td>\n",
       "      <td>4.958264</td>\n",
       "      <td>551.620145</td>\n",
       "    </tr>\n",
       "    <tr>\n",
       "      <th>498</th>\n",
       "      <td>cwilson@hotmail.com</td>\n",
       "      <td>680 Jennifer Lodge Apt. 808\\nBrendachester, TX...</td>\n",
       "      <td>Teal</td>\n",
       "      <td>33.322501</td>\n",
       "      <td>12.391423</td>\n",
       "      <td>36.840086</td>\n",
       "      <td>2.336485</td>\n",
       "      <td>456.469510</td>\n",
       "    </tr>\n",
       "    <tr>\n",
       "      <th>499</th>\n",
       "      <td>hannahwilson@davidson.com</td>\n",
       "      <td>49791 Rachel Heights Apt. 898\\nEast Drewboroug...</td>\n",
       "      <td>DarkMagenta</td>\n",
       "      <td>33.715981</td>\n",
       "      <td>12.418808</td>\n",
       "      <td>35.771016</td>\n",
       "      <td>2.735160</td>\n",
       "      <td>497.778642</td>\n",
       "    </tr>\n",
       "  </tbody>\n",
       "</table>\n",
       "</div>"
      ],
      "text/plain": [
       "                            Email  \\\n",
       "495  lewisjessica@craig-evans.com   \n",
       "496           katrina56@gmail.com   \n",
       "497            dale88@hotmail.com   \n",
       "498           cwilson@hotmail.com   \n",
       "499     hannahwilson@davidson.com   \n",
       "\n",
       "                                               Address         Avatar  \\\n",
       "495  4483 Jones Motorway Suite 872\\nLake Jamiefurt,...            Tan   \n",
       "496  172 Owen Divide Suite 497\\nWest Richard, CA 19320  PaleVioletRed   \n",
       "497  0787 Andrews Ranch Apt. 633\\nSouth Chadburgh, ...       Cornsilk   \n",
       "498  680 Jennifer Lodge Apt. 808\\nBrendachester, TX...           Teal   \n",
       "499  49791 Rachel Heights Apt. 898\\nEast Drewboroug...    DarkMagenta   \n",
       "\n",
       "     Avg. Session Length  Time on App  Time on Website  Length of Membership  \\\n",
       "495            33.237660    13.566160        36.417985              3.746573   \n",
       "496            34.702529    11.695736        37.190268              3.576526   \n",
       "497            32.646777    11.499409        38.332576              4.958264   \n",
       "498            33.322501    12.391423        36.840086              2.336485   \n",
       "499            33.715981    12.418808        35.771016              2.735160   \n",
       "\n",
       "     Yearly Amount Spent  \n",
       "495           573.847438  \n",
       "496           529.049004  \n",
       "497           551.620145  \n",
       "498           456.469510  \n",
       "499           497.778642  "
      ]
     },
     "execution_count": 4,
     "metadata": {},
     "output_type": "execute_result"
    }
   ],
   "source": [
    "data.tail()"
   ]
  },
  {
   "cell_type": "code",
   "execution_count": 5,
   "id": "1ae63a23",
   "metadata": {},
   "outputs": [
    {
     "data": {
      "text/plain": [
       "Index(['Email', 'Address', 'Avatar', 'Avg. Session Length', 'Time on App',\n",
       "       'Time on Website', 'Length of Membership', 'Yearly Amount Spent'],\n",
       "      dtype='object')"
      ]
     },
     "execution_count": 5,
     "metadata": {},
     "output_type": "execute_result"
    }
   ],
   "source": [
    "data.columns"
   ]
  },
  {
   "cell_type": "code",
   "execution_count": 6,
   "id": "699aaf7c",
   "metadata": {},
   "outputs": [
    {
     "data": {
      "text/plain": [
       "(500, 8)"
      ]
     },
     "execution_count": 6,
     "metadata": {},
     "output_type": "execute_result"
    }
   ],
   "source": [
    "data.shape"
   ]
  },
  {
   "cell_type": "code",
   "execution_count": 7,
   "id": "2426447b",
   "metadata": {},
   "outputs": [
    {
     "name": "stdout",
     "output_type": "stream",
     "text": [
      "<class 'pandas.core.frame.DataFrame'>\n",
      "RangeIndex: 500 entries, 0 to 499\n",
      "Data columns (total 8 columns):\n",
      " #   Column                Non-Null Count  Dtype  \n",
      "---  ------                --------------  -----  \n",
      " 0   Email                 500 non-null    object \n",
      " 1   Address               500 non-null    object \n",
      " 2   Avatar                500 non-null    object \n",
      " 3   Avg. Session Length   500 non-null    float64\n",
      " 4   Time on App           500 non-null    float64\n",
      " 5   Time on Website       500 non-null    float64\n",
      " 6   Length of Membership  500 non-null    float64\n",
      " 7   Yearly Amount Spent   500 non-null    float64\n",
      "dtypes: float64(5), object(3)\n",
      "memory usage: 31.4+ KB\n"
     ]
    }
   ],
   "source": [
    "data.info()"
   ]
  },
  {
   "cell_type": "code",
   "execution_count": 8,
   "id": "61ede98a",
   "metadata": {
    "scrolled": true
   },
   "outputs": [
    {
     "data": {
      "text/html": [
       "<div>\n",
       "<style scoped>\n",
       "    .dataframe tbody tr th:only-of-type {\n",
       "        vertical-align: middle;\n",
       "    }\n",
       "\n",
       "    .dataframe tbody tr th {\n",
       "        vertical-align: top;\n",
       "    }\n",
       "\n",
       "    .dataframe thead th {\n",
       "        text-align: right;\n",
       "    }\n",
       "</style>\n",
       "<table border=\"1\" class=\"dataframe\">\n",
       "  <thead>\n",
       "    <tr style=\"text-align: right;\">\n",
       "      <th></th>\n",
       "      <th>Avg. Session Length</th>\n",
       "      <th>Time on App</th>\n",
       "      <th>Time on Website</th>\n",
       "      <th>Length of Membership</th>\n",
       "      <th>Yearly Amount Spent</th>\n",
       "    </tr>\n",
       "  </thead>\n",
       "  <tbody>\n",
       "    <tr>\n",
       "      <th>count</th>\n",
       "      <td>500.000000</td>\n",
       "      <td>500.000000</td>\n",
       "      <td>500.000000</td>\n",
       "      <td>500.000000</td>\n",
       "      <td>500.000000</td>\n",
       "    </tr>\n",
       "    <tr>\n",
       "      <th>mean</th>\n",
       "      <td>33.053194</td>\n",
       "      <td>12.052488</td>\n",
       "      <td>37.060445</td>\n",
       "      <td>3.533462</td>\n",
       "      <td>499.314038</td>\n",
       "    </tr>\n",
       "    <tr>\n",
       "      <th>std</th>\n",
       "      <td>0.992563</td>\n",
       "      <td>0.994216</td>\n",
       "      <td>1.010489</td>\n",
       "      <td>0.999278</td>\n",
       "      <td>79.314782</td>\n",
       "    </tr>\n",
       "    <tr>\n",
       "      <th>min</th>\n",
       "      <td>29.532429</td>\n",
       "      <td>8.508152</td>\n",
       "      <td>33.913847</td>\n",
       "      <td>0.269901</td>\n",
       "      <td>256.670582</td>\n",
       "    </tr>\n",
       "    <tr>\n",
       "      <th>25%</th>\n",
       "      <td>32.341822</td>\n",
       "      <td>11.388153</td>\n",
       "      <td>36.349257</td>\n",
       "      <td>2.930450</td>\n",
       "      <td>445.038277</td>\n",
       "    </tr>\n",
       "    <tr>\n",
       "      <th>50%</th>\n",
       "      <td>33.082008</td>\n",
       "      <td>11.983231</td>\n",
       "      <td>37.069367</td>\n",
       "      <td>3.533975</td>\n",
       "      <td>498.887875</td>\n",
       "    </tr>\n",
       "    <tr>\n",
       "      <th>75%</th>\n",
       "      <td>33.711985</td>\n",
       "      <td>12.753850</td>\n",
       "      <td>37.716432</td>\n",
       "      <td>4.126502</td>\n",
       "      <td>549.313828</td>\n",
       "    </tr>\n",
       "    <tr>\n",
       "      <th>max</th>\n",
       "      <td>36.139662</td>\n",
       "      <td>15.126994</td>\n",
       "      <td>40.005182</td>\n",
       "      <td>6.922689</td>\n",
       "      <td>765.518462</td>\n",
       "    </tr>\n",
       "  </tbody>\n",
       "</table>\n",
       "</div>"
      ],
      "text/plain": [
       "       Avg. Session Length  Time on App  Time on Website  \\\n",
       "count           500.000000   500.000000       500.000000   \n",
       "mean             33.053194    12.052488        37.060445   \n",
       "std               0.992563     0.994216         1.010489   \n",
       "min              29.532429     8.508152        33.913847   \n",
       "25%              32.341822    11.388153        36.349257   \n",
       "50%              33.082008    11.983231        37.069367   \n",
       "75%              33.711985    12.753850        37.716432   \n",
       "max              36.139662    15.126994        40.005182   \n",
       "\n",
       "       Length of Membership  Yearly Amount Spent  \n",
       "count            500.000000           500.000000  \n",
       "mean               3.533462           499.314038  \n",
       "std                0.999278            79.314782  \n",
       "min                0.269901           256.670582  \n",
       "25%                2.930450           445.038277  \n",
       "50%                3.533975           498.887875  \n",
       "75%                4.126502           549.313828  \n",
       "max                6.922689           765.518462  "
      ]
     },
     "execution_count": 8,
     "metadata": {},
     "output_type": "execute_result"
    }
   ],
   "source": [
    "data.describe()"
   ]
  },
  {
   "cell_type": "code",
   "execution_count": 9,
   "id": "c1eee42e",
   "metadata": {},
   "outputs": [
    {
     "data": {
      "text/html": [
       "<div>\n",
       "<style scoped>\n",
       "    .dataframe tbody tr th:only-of-type {\n",
       "        vertical-align: middle;\n",
       "    }\n",
       "\n",
       "    .dataframe tbody tr th {\n",
       "        vertical-align: top;\n",
       "    }\n",
       "\n",
       "    .dataframe thead th {\n",
       "        text-align: right;\n",
       "    }\n",
       "</style>\n",
       "<table border=\"1\" class=\"dataframe\">\n",
       "  <thead>\n",
       "    <tr style=\"text-align: right;\">\n",
       "      <th></th>\n",
       "      <th>Email</th>\n",
       "      <th>Address</th>\n",
       "      <th>Avatar</th>\n",
       "    </tr>\n",
       "  </thead>\n",
       "  <tbody>\n",
       "    <tr>\n",
       "      <th>count</th>\n",
       "      <td>500</td>\n",
       "      <td>500</td>\n",
       "      <td>500</td>\n",
       "    </tr>\n",
       "    <tr>\n",
       "      <th>unique</th>\n",
       "      <td>500</td>\n",
       "      <td>500</td>\n",
       "      <td>138</td>\n",
       "    </tr>\n",
       "    <tr>\n",
       "      <th>top</th>\n",
       "      <td>mstephenson@fernandez.com</td>\n",
       "      <td>835 Frank Tunnel\\nWrightmouth, MI 82180-9605</td>\n",
       "      <td>SlateBlue</td>\n",
       "    </tr>\n",
       "    <tr>\n",
       "      <th>freq</th>\n",
       "      <td>1</td>\n",
       "      <td>1</td>\n",
       "      <td>7</td>\n",
       "    </tr>\n",
       "  </tbody>\n",
       "</table>\n",
       "</div>"
      ],
      "text/plain": [
       "                            Email  \\\n",
       "count                         500   \n",
       "unique                        500   \n",
       "top     mstephenson@fernandez.com   \n",
       "freq                            1   \n",
       "\n",
       "                                             Address     Avatar  \n",
       "count                                            500        500  \n",
       "unique                                           500        138  \n",
       "top     835 Frank Tunnel\\nWrightmouth, MI 82180-9605  SlateBlue  \n",
       "freq                                               1          7  "
      ]
     },
     "execution_count": 9,
     "metadata": {},
     "output_type": "execute_result"
    }
   ],
   "source": [
    "data.describe(include = 'O')"
   ]
  },
  {
   "cell_type": "code",
   "execution_count": 10,
   "id": "07e136bc",
   "metadata": {},
   "outputs": [
    {
     "data": {
      "image/png": "[encoded data removed]",
      "text/plain": [
       "<Figure size 1440x1440 with 8 Axes>"
      ]
     },
     "metadata": {},
     "output_type": "display_data"
    }
   ],
   "source": [
    "plt.figure(figsize = (20,20), facecolor = 'white')\n",
    "plotnumber = 1\n",
    "\n",
    "for columns in data:\n",
    "    if plotnumber <=9:\n",
    "        ax = plt.subplot(3,3,plotnumber)\n",
    "        sns.histplot(data[columns])\n",
    "        plt.xlabel(columns,fontsize = 20)\n",
    "        plt.ylabel('Count',fontsize=20)\n",
    "    plotnumber+=1\n",
    "plt.tight_layout()\n",
    "        "
   ]
  },
  {
   "cell_type": "code",
   "execution_count": 11,
   "id": "b0ddc40a",
   "metadata": {},
   "outputs": [
    {
     "data": {
      "image/png": "[encoded data removed]",
      "text/plain": [
       "<Figure size 864x432 with 1 Axes>"
      ]
     },
     "metadata": {
      "needs_background": "light"
     },
     "output_type": "display_data"
    },
    {
     "name": "stdout",
     "output_type": "stream",
     "text": [
      "mstephenson@fernandez.com        1\n",
      "elizabeth61@berg-braun.com       1\n",
      "pamelahampton@martin-cobb.com    1\n",
      "dbell@hotmail.com                1\n",
      "vancealicia@hotmail.com          1\n",
      "                                ..\n",
      "stevenking@patterson.com         1\n",
      "blevinseric@stephens.com         1\n",
      "campbellross@yahoo.com           1\n",
      "casey21@johnson.com              1\n",
      "hannahwilson@davidson.com        1\n",
      "Name: Email, Length: 500, dtype: int64\n"
     ]
    }
   ],
   "source": [
    "plt.figure(figsize=(12, 6))\n",
    "sns.countplot(x = 'Email', data = data )\n",
    "\n",
    "plt.show()\n",
    "\n",
    "print(data['Email'].value_counts())\n"
   ]
  },
  {
   "cell_type": "code",
   "execution_count": 12,
   "id": "f1342df5",
   "metadata": {},
   "outputs": [
    {
     "data": {
      "image/png": "[encoded data removed]",
      "text/plain": [
       "<Figure size 432x288 with 1 Axes>"
      ]
     },
     "metadata": {
      "needs_background": "light"
     },
     "output_type": "display_data"
    }
   ],
   "source": [
    "sns.histplot(data['Avg. Session Length'], bins=20, kde=True)\n",
    "plt.show()\n",
    "\n"
   ]
  },
  {
   "cell_type": "code",
   "execution_count": 13,
   "id": "6fec0823",
   "metadata": {},
   "outputs": [
    {
     "data": {
      "image/png": "[encoded data removed]",
      "text/plain": [
       "<Figure size 432x288 with 1 Axes>"
      ]
     },
     "metadata": {
      "needs_background": "light"
     },
     "output_type": "display_data"
    }
   ],
   "source": [
    "sns.histplot(data['Time on Website'], bins=20, kde=True)\n",
    "plt.xlabel('Time on Website')\n",
    "plt.show()\n"
   ]
  },
  {
   "cell_type": "code",
   "execution_count": 14,
   "id": "90c7ccba",
   "metadata": {},
   "outputs": [
    {
     "name": "stderr",
     "output_type": "stream",
     "text": [
      "C:\\Users\\HP\\anaconda3\\lib\\site-packages\\seaborn\\_decorators.py:36: FutureWarning: Pass the following variable as a keyword arg: x. From version 0.12, the only valid positional argument will be `data`, and passing other arguments without an explicit keyword will result in an error or misinterpretation.\n",
      "  warnings.warn(\n"
     ]
    },
    {
     "data": {
      "text/plain": [
       "<function matplotlib.pyplot.show(close=None, block=None)>"
      ]
     },
     "execution_count": 14,
     "metadata": {},
     "output_type": "execute_result"
    },
    {
     "data": {
      "image/png": "[encoded data removed]",
      "text/plain": [
       "<Figure size 432x288 with 1 Axes>"
      ]
     },
     "metadata": {
      "needs_background": "light"
     },
     "output_type": "display_data"
    }
   ],
   "source": [
    "sns.boxplot(data['Time on Website'],data = data)\n",
    "plt.xlabel('Time on Website')\n",
    "plt.show"
   ]
  },
  {
   "cell_type": "code",
   "execution_count": 15,
   "id": "7faa67ea",
   "metadata": {},
   "outputs": [
    {
     "data": {
      "text/plain": [
       "Email                   0\n",
       "Address                 0\n",
       "Avatar                  0\n",
       "Avg. Session Length     0\n",
       "Time on App             0\n",
       "Time on Website         0\n",
       "Length of Membership    0\n",
       "Yearly Amount Spent     0\n",
       "dtype: int64"
      ]
     },
     "execution_count": 15,
     "metadata": {},
     "output_type": "execute_result"
    }
   ],
   "source": [
    "data.isnull().sum()"
   ]
  },
  {
   "cell_type": "code",
   "execution_count": 16,
   "id": "f705f5b2",
   "metadata": {},
   "outputs": [],
   "source": [
    "data.drop(['Email','Address','Avatar'], axis =1 , inplace = True)"
   ]
  },
  {
   "cell_type": "code",
   "execution_count": 17,
   "id": "5cfafa62",
   "metadata": {},
   "outputs": [
    {
     "data": {
      "text/html": [
       "<div>\n",
       "<style scoped>\n",
       "    .dataframe tbody tr th:only-of-type {\n",
       "        vertical-align: middle;\n",
       "    }\n",
       "\n",
       "    .dataframe tbody tr th {\n",
       "        vertical-align: top;\n",
       "    }\n",
       "\n",
       "    .dataframe thead th {\n",
       "        text-align: right;\n",
       "    }\n",
       "</style>\n",
       "<table border=\"1\" class=\"dataframe\">\n",
       "  <thead>\n",
       "    <tr style=\"text-align: right;\">\n",
       "      <th></th>\n",
       "      <th>Avg. Session Length</th>\n",
       "      <th>Time on App</th>\n",
       "      <th>Time on Website</th>\n",
       "      <th>Length of Membership</th>\n",
       "      <th>Yearly Amount Spent</th>\n",
       "    </tr>\n",
       "  </thead>\n",
       "  <tbody>\n",
       "    <tr>\n",
       "      <th>0</th>\n",
       "      <td>34.497268</td>\n",
       "      <td>12.655651</td>\n",
       "      <td>39.577668</td>\n",
       "      <td>4.082621</td>\n",
       "      <td>587.951054</td>\n",
       "    </tr>\n",
       "    <tr>\n",
       "      <th>1</th>\n",
       "      <td>31.926272</td>\n",
       "      <td>11.109461</td>\n",
       "      <td>37.268959</td>\n",
       "      <td>2.664034</td>\n",
       "      <td>392.204933</td>\n",
       "    </tr>\n",
       "    <tr>\n",
       "      <th>2</th>\n",
       "      <td>33.000915</td>\n",
       "      <td>11.330278</td>\n",
       "      <td>37.110597</td>\n",
       "      <td>4.104543</td>\n",
       "      <td>487.547505</td>\n",
       "    </tr>\n",
       "    <tr>\n",
       "      <th>3</th>\n",
       "      <td>34.305557</td>\n",
       "      <td>13.717514</td>\n",
       "      <td>36.721283</td>\n",
       "      <td>3.120179</td>\n",
       "      <td>581.852344</td>\n",
       "    </tr>\n",
       "    <tr>\n",
       "      <th>4</th>\n",
       "      <td>33.330673</td>\n",
       "      <td>12.795189</td>\n",
       "      <td>37.536653</td>\n",
       "      <td>4.446308</td>\n",
       "      <td>599.406092</td>\n",
       "    </tr>\n",
       "    <tr>\n",
       "      <th>...</th>\n",
       "      <td>...</td>\n",
       "      <td>...</td>\n",
       "      <td>...</td>\n",
       "      <td>...</td>\n",
       "      <td>...</td>\n",
       "    </tr>\n",
       "    <tr>\n",
       "      <th>495</th>\n",
       "      <td>33.237660</td>\n",
       "      <td>13.566160</td>\n",
       "      <td>36.417985</td>\n",
       "      <td>3.746573</td>\n",
       "      <td>573.847438</td>\n",
       "    </tr>\n",
       "    <tr>\n",
       "      <th>496</th>\n",
       "      <td>34.702529</td>\n",
       "      <td>11.695736</td>\n",
       "      <td>37.190268</td>\n",
       "      <td>3.576526</td>\n",
       "      <td>529.049004</td>\n",
       "    </tr>\n",
       "    <tr>\n",
       "      <th>497</th>\n",
       "      <td>32.646777</td>\n",
       "      <td>11.499409</td>\n",
       "      <td>38.332576</td>\n",
       "      <td>4.958264</td>\n",
       "      <td>551.620145</td>\n",
       "    </tr>\n",
       "    <tr>\n",
       "      <th>498</th>\n",
       "      <td>33.322501</td>\n",
       "      <td>12.391423</td>\n",
       "      <td>36.840086</td>\n",
       "      <td>2.336485</td>\n",
       "      <td>456.469510</td>\n",
       "    </tr>\n",
       "    <tr>\n",
       "      <th>499</th>\n",
       "      <td>33.715981</td>\n",
       "      <td>12.418808</td>\n",
       "      <td>35.771016</td>\n",
       "      <td>2.735160</td>\n",
       "      <td>497.778642</td>\n",
       "    </tr>\n",
       "  </tbody>\n",
       "</table>\n",
       "<p>500 rows × 5 columns</p>\n",
       "</div>"
      ],
      "text/plain": [
       "     Avg. Session Length  Time on App  Time on Website  Length of Membership  \\\n",
       "0              34.497268    12.655651        39.577668              4.082621   \n",
       "1              31.926272    11.109461        37.268959              2.664034   \n",
       "2              33.000915    11.330278        37.110597              4.104543   \n",
       "3              34.305557    13.717514        36.721283              3.120179   \n",
       "4              33.330673    12.795189        37.536653              4.446308   \n",
       "..                   ...          ...              ...                   ...   \n",
       "495            33.237660    13.566160        36.417985              3.746573   \n",
       "496            34.702529    11.695736        37.190268              3.576526   \n",
       "497            32.646777    11.499409        38.332576              4.958264   \n",
       "498            33.322501    12.391423        36.840086              2.336485   \n",
       "499            33.715981    12.418808        35.771016              2.735160   \n",
       "\n",
       "     Yearly Amount Spent  \n",
       "0             587.951054  \n",
       "1             392.204933  \n",
       "2             487.547505  \n",
       "3             581.852344  \n",
       "4             599.406092  \n",
       "..                   ...  \n",
       "495           573.847438  \n",
       "496           529.049004  \n",
       "497           551.620145  \n",
       "498           456.469510  \n",
       "499           497.778642  \n",
       "\n",
       "[500 rows x 5 columns]"
      ]
     },
     "execution_count": 17,
     "metadata": {},
     "output_type": "execute_result"
    }
   ],
   "source": [
    "data"
   ]
  },
  {
   "cell_type": "code",
   "execution_count": 18,
   "id": "b65803bc",
   "metadata": {},
   "outputs": [],
   "source": [
    "x = data.drop(['Yearly Amount Spent'], axis = 1)\n",
    "y = data['Yearly Amount Spent']"
   ]
  },
  {
   "cell_type": "code",
   "execution_count": 19,
   "id": "92544e0e",
   "metadata": {},
   "outputs": [
    {
     "data": {
      "text/html": [
       "<div>\n",
       "<style scoped>\n",
       "    .dataframe tbody tr th:only-of-type {\n",
       "        vertical-align: middle;\n",
       "    }\n",
       "\n",
       "    .dataframe tbody tr th {\n",
       "        vertical-align: top;\n",
       "    }\n",
       "\n",
       "    .dataframe thead th {\n",
       "        text-align: right;\n",
       "    }\n",
       "</style>\n",
       "<table border=\"1\" class=\"dataframe\">\n",
       "  <thead>\n",
       "    <tr style=\"text-align: right;\">\n",
       "      <th></th>\n",
       "      <th>Avg. Session Length</th>\n",
       "      <th>Time on App</th>\n",
       "      <th>Time on Website</th>\n",
       "      <th>Length of Membership</th>\n",
       "    </tr>\n",
       "  </thead>\n",
       "  <tbody>\n",
       "    <tr>\n",
       "      <th>0</th>\n",
       "      <td>34.497268</td>\n",
       "      <td>12.655651</td>\n",
       "      <td>39.577668</td>\n",
       "      <td>4.082621</td>\n",
       "    </tr>\n",
       "    <tr>\n",
       "      <th>1</th>\n",
       "      <td>31.926272</td>\n",
       "      <td>11.109461</td>\n",
       "      <td>37.268959</td>\n",
       "      <td>2.664034</td>\n",
       "    </tr>\n",
       "    <tr>\n",
       "      <th>2</th>\n",
       "      <td>33.000915</td>\n",
       "      <td>11.330278</td>\n",
       "      <td>37.110597</td>\n",
       "      <td>4.104543</td>\n",
       "    </tr>\n",
       "    <tr>\n",
       "      <th>3</th>\n",
       "      <td>34.305557</td>\n",
       "      <td>13.717514</td>\n",
       "      <td>36.721283</td>\n",
       "      <td>3.120179</td>\n",
       "    </tr>\n",
       "    <tr>\n",
       "      <th>4</th>\n",
       "      <td>33.330673</td>\n",
       "      <td>12.795189</td>\n",
       "      <td>37.536653</td>\n",
       "      <td>4.446308</td>\n",
       "    </tr>\n",
       "    <tr>\n",
       "      <th>...</th>\n",
       "      <td>...</td>\n",
       "      <td>...</td>\n",
       "      <td>...</td>\n",
       "      <td>...</td>\n",
       "    </tr>\n",
       "    <tr>\n",
       "      <th>495</th>\n",
       "      <td>33.237660</td>\n",
       "      <td>13.566160</td>\n",
       "      <td>36.417985</td>\n",
       "      <td>3.746573</td>\n",
       "    </tr>\n",
       "    <tr>\n",
       "      <th>496</th>\n",
       "      <td>34.702529</td>\n",
       "      <td>11.695736</td>\n",
       "      <td>37.190268</td>\n",
       "      <td>3.576526</td>\n",
       "    </tr>\n",
       "    <tr>\n",
       "      <th>497</th>\n",
       "      <td>32.646777</td>\n",
       "      <td>11.499409</td>\n",
       "      <td>38.332576</td>\n",
       "      <td>4.958264</td>\n",
       "    </tr>\n",
       "    <tr>\n",
       "      <th>498</th>\n",
       "      <td>33.322501</td>\n",
       "      <td>12.391423</td>\n",
       "      <td>36.840086</td>\n",
       "      <td>2.336485</td>\n",
       "    </tr>\n",
       "    <tr>\n",
       "      <th>499</th>\n",
       "      <td>33.715981</td>\n",
       "      <td>12.418808</td>\n",
       "      <td>35.771016</td>\n",
       "      <td>2.735160</td>\n",
       "    </tr>\n",
       "  </tbody>\n",
       "</table>\n",
       "<p>500 rows × 4 columns</p>\n",
       "</div>"
      ],
      "text/plain": [
       "     Avg. Session Length  Time on App  Time on Website  Length of Membership\n",
       "0              34.497268    12.655651        39.577668              4.082621\n",
       "1              31.926272    11.109461        37.268959              2.664034\n",
       "2              33.000915    11.330278        37.110597              4.104543\n",
       "3              34.305557    13.717514        36.721283              3.120179\n",
       "4              33.330673    12.795189        37.536653              4.446308\n",
       "..                   ...          ...              ...                   ...\n",
       "495            33.237660    13.566160        36.417985              3.746573\n",
       "496            34.702529    11.695736        37.190268              3.576526\n",
       "497            32.646777    11.499409        38.332576              4.958264\n",
       "498            33.322501    12.391423        36.840086              2.336485\n",
       "499            33.715981    12.418808        35.771016              2.735160\n",
       "\n",
       "[500 rows x 4 columns]"
      ]
     },
     "execution_count": 19,
     "metadata": {},
     "output_type": "execute_result"
    }
   ],
   "source": [
    "x"
   ]
  },
  {
   "cell_type": "code",
   "execution_count": 20,
   "id": "71fcf8c4",
   "metadata": {},
   "outputs": [
    {
     "data": {
      "text/plain": [
       "0      587.951054\n",
       "1      392.204933\n",
       "2      487.547505\n",
       "3      581.852344\n",
       "4      599.406092\n",
       "          ...    \n",
       "495    573.847438\n",
       "496    529.049004\n",
       "497    551.620145\n",
       "498    456.469510\n",
       "499    497.778642\n",
       "Name: Yearly Amount Spent, Length: 500, dtype: float64"
      ]
     },
     "execution_count": 20,
     "metadata": {},
     "output_type": "execute_result"
    }
   ],
   "source": [
    "y"
   ]
  },
  {
   "cell_type": "code",
   "execution_count": 21,
   "id": "145b8bb2",
   "metadata": {},
   "outputs": [],
   "source": [
    "from sklearn.model_selection import train_test_split \n",
    "x_test,x_train,y_test,y_train = train_test_split(x,y,test_size=0.2, random_state = 2)"
   ]
  },
  {
   "cell_type": "code",
   "execution_count": 22,
   "id": "10a3e48c",
   "metadata": {},
   "outputs": [
    {
     "data": {
      "text/html": [
       "<div>\n",
       "<style scoped>\n",
       "    .dataframe tbody tr th:only-of-type {\n",
       "        vertical-align: middle;\n",
       "    }\n",
       "\n",
       "    .dataframe tbody tr th {\n",
       "        vertical-align: top;\n",
       "    }\n",
       "\n",
       "    .dataframe thead th {\n",
       "        text-align: right;\n",
       "    }\n",
       "</style>\n",
       "<table border=\"1\" class=\"dataframe\">\n",
       "  <thead>\n",
       "    <tr style=\"text-align: right;\">\n",
       "      <th></th>\n",
       "      <th>Avg. Session Length</th>\n",
       "      <th>Time on App</th>\n",
       "      <th>Time on Website</th>\n",
       "      <th>Length of Membership</th>\n",
       "    </tr>\n",
       "  </thead>\n",
       "  <tbody>\n",
       "    <tr>\n",
       "      <th>129</th>\n",
       "      <td>32.771715</td>\n",
       "      <td>11.540832</td>\n",
       "      <td>37.526421</td>\n",
       "      <td>2.924021</td>\n",
       "    </tr>\n",
       "    <tr>\n",
       "      <th>280</th>\n",
       "      <td>32.271848</td>\n",
       "      <td>13.485009</td>\n",
       "      <td>37.550880</td>\n",
       "      <td>3.086337</td>\n",
       "    </tr>\n",
       "    <tr>\n",
       "      <th>440</th>\n",
       "      <td>33.200616</td>\n",
       "      <td>11.965980</td>\n",
       "      <td>36.831536</td>\n",
       "      <td>3.549036</td>\n",
       "    </tr>\n",
       "    <tr>\n",
       "      <th>384</th>\n",
       "      <td>33.593964</td>\n",
       "      <td>11.520567</td>\n",
       "      <td>36.189132</td>\n",
       "      <td>3.561215</td>\n",
       "    </tr>\n",
       "    <tr>\n",
       "      <th>225</th>\n",
       "      <td>32.836941</td>\n",
       "      <td>10.256549</td>\n",
       "      <td>36.143908</td>\n",
       "      <td>0.789520</td>\n",
       "    </tr>\n",
       "    <tr>\n",
       "      <th>...</th>\n",
       "      <td>...</td>\n",
       "      <td>...</td>\n",
       "      <td>...</td>\n",
       "      <td>...</td>\n",
       "    </tr>\n",
       "    <tr>\n",
       "      <th>387</th>\n",
       "      <td>33.637812</td>\n",
       "      <td>12.039502</td>\n",
       "      <td>34.487185</td>\n",
       "      <td>2.739200</td>\n",
       "    </tr>\n",
       "    <tr>\n",
       "      <th>117</th>\n",
       "      <td>33.059264</td>\n",
       "      <td>11.725910</td>\n",
       "      <td>35.999099</td>\n",
       "      <td>5.004821</td>\n",
       "    </tr>\n",
       "    <tr>\n",
       "      <th>468</th>\n",
       "      <td>34.200539</td>\n",
       "      <td>12.667809</td>\n",
       "      <td>37.487049</td>\n",
       "      <td>3.701622</td>\n",
       "    </tr>\n",
       "    <tr>\n",
       "      <th>395</th>\n",
       "      <td>31.445972</td>\n",
       "      <td>12.846499</td>\n",
       "      <td>37.869217</td>\n",
       "      <td>3.420150</td>\n",
       "    </tr>\n",
       "    <tr>\n",
       "      <th>146</th>\n",
       "      <td>32.116400</td>\n",
       "      <td>12.380695</td>\n",
       "      <td>37.232003</td>\n",
       "      <td>3.089528</td>\n",
       "    </tr>\n",
       "  </tbody>\n",
       "</table>\n",
       "<p>100 rows × 4 columns</p>\n",
       "</div>"
      ],
      "text/plain": [
       "     Avg. Session Length  Time on App  Time on Website  Length of Membership\n",
       "129            32.771715    11.540832        37.526421              2.924021\n",
       "280            32.271848    13.485009        37.550880              3.086337\n",
       "440            33.200616    11.965980        36.831536              3.549036\n",
       "384            33.593964    11.520567        36.189132              3.561215\n",
       "225            32.836941    10.256549        36.143908              0.789520\n",
       "..                   ...          ...              ...                   ...\n",
       "387            33.637812    12.039502        34.487185              2.739200\n",
       "117            33.059264    11.725910        35.999099              5.004821\n",
       "468            34.200539    12.667809        37.487049              3.701622\n",
       "395            31.445972    12.846499        37.869217              3.420150\n",
       "146            32.116400    12.380695        37.232003              3.089528\n",
       "\n",
       "[100 rows x 4 columns]"
      ]
     },
     "execution_count": 22,
     "metadata": {},
     "output_type": "execute_result"
    }
   ],
   "source": [
    "x_train"
   ]
  },
  {
   "cell_type": "code",
   "execution_count": 23,
   "id": "99dc1ceb",
   "metadata": {
    "scrolled": true
   },
   "outputs": [
    {
     "data": {
      "text/plain": [
       "129    431.617734\n",
       "280    511.979860\n",
       "440    499.140152\n",
       "384    474.532329\n",
       "225    256.670582\n",
       "          ...    \n",
       "387    458.781132\n",
       "117    593.077241\n",
       "468    553.994674\n",
       "395    484.876965\n",
       "146    463.484995\n",
       "Name: Yearly Amount Spent, Length: 100, dtype: float64"
      ]
     },
     "execution_count": 23,
     "metadata": {},
     "output_type": "execute_result"
    }
   ],
   "source": [
    "y_train"
   ]
  },
  {
   "cell_type": "code",
   "execution_count": 24,
   "id": "746775c4",
   "metadata": {},
   "outputs": [
    {
     "data": {
      "text/plain": [
       "LinearRegression()"
      ]
     },
     "execution_count": 24,
     "metadata": {},
     "output_type": "execute_result"
    }
   ],
   "source": [
    "from sklearn.linear_model  import LinearRegression \n",
    "LR = LinearRegression()\n",
    "LR.fit(x_train,y_train)"
   ]
  },
  {
   "cell_type": "code",
   "execution_count": 25,
   "id": "cdeb2167",
   "metadata": {
    "scrolled": true
   },
   "outputs": [
    {
     "data": {
      "text/plain": [
       "array([556.91749251, 501.66458886, 458.82668602, 477.27377252,\n",
       "       599.08509219, 474.88390644, 471.32828344, 547.05059598,\n",
       "       558.6019965 , 615.40983681, 399.39322558, 505.96627744,\n",
       "       448.80495369, 587.47547907, 513.75587683, 600.0475273 ,\n",
       "       430.61468655, 570.34897943, 643.18849594, 478.19743268,\n",
       "       522.58110132, 507.63450822, 522.13817823, 587.61903602,\n",
       "       515.42727571, 506.75529245, 546.27594351, 440.43042667,\n",
       "       408.12559078, 714.78153999, 384.28704323, 513.39195461,\n",
       "       531.17463603, 670.88720397, 435.16678388, 411.51169539,\n",
       "       437.64877862, 491.74854905, 507.40070686, 382.45012441,\n",
       "       394.47288408, 484.36791686, 458.59909145, 506.9907564 ,\n",
       "       608.61382254, 410.39630531, 421.79045451, 468.22272882,\n",
       "       406.21729954, 466.42417017, 575.91473189, 447.69776925,\n",
       "       513.3184303 , 530.39787501, 370.36009647, 401.27502496,\n",
       "       572.46606162, 435.96557739, 453.85124299, 448.62677009,\n",
       "       570.44178475, 619.76200724, 490.26362317, 509.82201464,\n",
       "       454.92235412, 304.43229185, 502.30073142, 466.07286795,\n",
       "       568.99526634, 577.88470965, 493.27714113, 492.97882394,\n",
       "       417.45243281, 424.22244389, 437.35609699, 476.36183029,\n",
       "       557.93265334, 528.33904521, 671.85099929, 498.73064847,\n",
       "       553.76123584, 657.70027876, 527.81373517, 561.09684103,\n",
       "       484.47933337, 567.41789293, 387.58986792, 479.81330834,\n",
       "       336.67204694, 755.3452119 , 685.41929971, 535.12758111,\n",
       "       350.95791875, 518.23729388, 555.364002  , 435.1288042 ,\n",
       "       515.32848892, 516.68570356, 472.29748755, 461.00908206,\n",
       "       488.42108269, 492.28631225, 502.25407513, 443.35876234,\n",
       "       543.14496164, 548.41335546, 529.39911724, 543.96686996,\n",
       "       479.35159961, 543.92809015, 517.04154936, 480.04111155,\n",
       "       589.05829737, 504.37202462, 502.0996345 , 472.52488139,\n",
       "       505.17686235, 649.9837401 , 457.09421179, 543.10877501,\n",
       "       477.67192435, 606.17649606, 389.26780749, 538.39346374,\n",
       "       509.18779287, 686.00266851, 425.16858307, 524.65561727,\n",
       "       513.90754843, 472.92289423, 598.47605   , 445.01550488,\n",
       "       551.39586528, 568.00489807, 521.05738491, 574.07064078,\n",
       "       397.74456392, 469.0280141 , 480.94506608, 598.56543559,\n",
       "       461.32076971, 507.63860249, 534.16337662, 420.6186995 ,\n",
       "       378.98387457, 426.78158632, 585.20310222, 561.84436863,\n",
       "       472.75383079, 500.30314273, 482.83933621, 606.12746634,\n",
       "       529.11177912, 491.20925799, 501.29027327, 521.72368691,\n",
       "       574.66672777, 591.0740214 , 325.60837836, 549.55050423,\n",
       "       609.77336546, 546.13081292, 489.12529735, 427.79566799,\n",
       "       420.39784389, 576.87000397, 591.40473866, 477.54427695,\n",
       "       409.9148188 , 523.28011098, 399.9710587 , 553.51807821,\n",
       "       511.38665368, 559.52564422, 317.4461277 , 509.10407406,\n",
       "       391.2798197 , 551.86925099, 497.78074769, 618.02394153,\n",
       "       577.66615477, 611.004742  , 469.81599115, 534.09630962,\n",
       "       542.23923824, 442.56238656, 281.93363708, 449.86382219,\n",
       "       508.4182949 , 482.13142114, 601.39776262, 615.40693178,\n",
       "       663.57029578, 399.23443581, 483.68947885, 640.89952511,\n",
       "       445.79807799, 425.68122244, 518.20763136, 462.55919274,\n",
       "       500.80552828, 547.87135365, 519.08690029, 508.51211177,\n",
       "       474.58568454, 533.57059831, 414.13978632, 581.19114159,\n",
       "       409.2201836 , 414.6375667 , 571.80409136, 374.85033982,\n",
       "       504.00200022, 488.83353209, 431.72780661, 558.84630181,\n",
       "       440.98243419, 494.15277278, 550.62096434, 451.98151278,\n",
       "       607.56532636, 574.70978831, 348.93294167, 473.14914366,\n",
       "       600.03864677, 511.35567584, 540.54528166, 514.98900041,\n",
       "       499.31239634, 415.03357894, 377.80721803, 396.6640193 ,\n",
       "       581.06025995, 643.07326307, 568.14849225, 432.49795983,\n",
       "       497.11225282, 601.4341704 , 390.39200272, 557.84546203,\n",
       "       521.76080518, 433.09707179, 395.04100741, 464.08099933,\n",
       "       510.00094291, 419.52201949, 556.49582627, 573.07280609,\n",
       "       458.62031951, 346.80517715, 589.08844913, 499.95516907,\n",
       "       430.39452668, 601.04718365, 445.2676696 , 427.61862258,\n",
       "       684.53182043, 480.24546725, 496.7079058 , 515.03452512,\n",
       "       340.9198591 , 519.12065363, 481.46287101, 590.03198341,\n",
       "       450.42818709, 461.47500432, 580.97618192, 470.6267627 ,\n",
       "       592.27317653, 523.93080965, 395.45640472, 620.70903804,\n",
       "       593.6664651 , 483.83438961, 675.70895706, 525.91866865,\n",
       "       645.60574694, 563.88786155, 538.88544159, 393.13157762,\n",
       "       546.4165022 , 531.80015646, 547.95989698, 627.69311587,\n",
       "       500.17597515, 340.41943104, 635.43688941, 544.93774748,\n",
       "       450.22186246, 467.53693285, 410.46859583, 496.67719145,\n",
       "       465.41037879, 490.93603038, 503.23421879, 438.42859544,\n",
       "       562.31491922, 311.82284884, 451.70343485, 616.19543594,\n",
       "       510.86771269, 576.31109976, 622.35312102, 543.42554854,\n",
       "       503.11863277, 473.53543018, 480.4830212 , 573.17868335,\n",
       "       425.30592807, 521.61632333, 594.70829816, 484.47308847,\n",
       "       507.77004208, 553.71727884, 443.8477371 , 457.20049834,\n",
       "       514.00587391, 508.26067912, 482.4855682 , 489.46568948,\n",
       "       449.88112752, 449.82929969, 608.82991768, 357.4295574 ,\n",
       "       544.29008077, 548.20812625, 337.25239701, 431.54724775,\n",
       "       496.98913852, 403.48164836, 500.48231754, 541.8129044 ,\n",
       "       427.54198802, 461.57008951, 424.64791733, 495.48291401,\n",
       "       650.20700808, 554.32246388, 464.1636936 , 634.91748357,\n",
       "       313.02768746, 518.5855923 , 548.51970496, 429.99681259,\n",
       "       417.7697755 , 544.86390585, 480.60606826, 480.9676174 ,\n",
       "       456.59094278, 725.02520828, 420.6410102 , 373.23148431,\n",
       "       494.18782621, 474.0983207 , 460.80318232, 570.94098974,\n",
       "       554.99771691, 531.14317652, 449.6542918 , 550.53883383,\n",
       "       356.02031655, 565.07913176, 461.33323148, 480.26847032,\n",
       "       532.55542074, 516.46557601, 481.68275926, 486.73087107,\n",
       "       481.23436316, 556.50456301, 443.3297107 , 523.5262935 ,\n",
       "       534.14618361, 665.2189276 , 401.4386532 , 418.05116285,\n",
       "       573.1064965 , 456.86111599, 471.60374104, 505.95795769,\n",
       "       497.25070269, 421.14117619, 426.72187431, 592.89107092,\n",
       "       562.42901509, 556.61569784, 400.81495945, 552.25298308,\n",
       "       433.93590506, 539.01175168, 471.10154073, 441.09015666,\n",
       "       455.03831114, 570.32373812, 287.24509998, 430.64351531,\n",
       "       421.67681117, 612.18456328, 450.97636938, 524.26381518])"
      ]
     },
     "execution_count": 25,
     "metadata": {},
     "output_type": "execute_result"
    }
   ],
   "source": [
    "y_predict = LR.predict(x_test)\n",
    "y_predict"
   ]
  },
  {
   "cell_type": "code",
   "execution_count": 26,
   "id": "3a006a07",
   "metadata": {},
   "outputs": [
    {
     "data": {
      "text/plain": [
       "0.9830182276509296"
      ]
     },
     "execution_count": 26,
     "metadata": {},
     "output_type": "execute_result"
    }
   ],
   "source": [
    "from sklearn.metrics import r2_score,mean_squared_error,mean_absolute_error\n",
    "r2_score = r2_score(y_test,y_predict)\n",
    "r2_score"
   ]
  },
  {
   "cell_type": "code",
   "execution_count": 27,
   "id": "27ba0686",
   "metadata": {},
   "outputs": [
    {
     "name": "stdout",
     "output_type": "stream",
     "text": [
      "104.39071615511926\n",
      "10.217177504336473\n"
     ]
    }
   ],
   "source": [
    "import math\n",
    "print(mean_squared_error(y_test,y_predict))\n",
    "print(math.sqrt(mean_squared_error(y_test,y_predict)))  "
   ]
  },
  {
   "cell_type": "code",
   "execution_count": 28,
   "id": "20cb510d",
   "metadata": {
    "scrolled": true
   },
   "outputs": [
    {
     "name": "stdout",
     "output_type": "stream",
     "text": [
      "8.100907677998949\n"
     ]
    }
   ],
   "source": [
    "print(mean_absolute_error(y_test,y_predict))"
   ]
  },
  {
   "cell_type": "code",
   "execution_count": 29,
   "id": "4b181d23",
   "metadata": {},
   "outputs": [
    {
     "data": {
      "text/plain": [
       "(400, 4)"
      ]
     },
     "execution_count": 29,
     "metadata": {},
     "output_type": "execute_result"
    }
   ],
   "source": [
    "x_test.shape"
   ]
  },
  {
   "cell_type": "code",
   "execution_count": 30,
   "id": "b33be724",
   "metadata": {},
   "outputs": [
    {
     "data": {
      "text/plain": [
       "0.9799493670886076"
      ]
     },
     "execution_count": 30,
     "metadata": {},
     "output_type": "execute_result"
    }
   ],
   "source": [
    "adjusted_r2 = 1-(1-0.98)*(400-4)/(400-4-1)   \n",
    "adjusted_r2"
   ]
  },
  {
   "cell_type": "markdown",
   "id": "81338e22",
   "metadata": {},
   "source": [
    "# Random Forest Regressor "
   ]
  },
  {
   "cell_type": "code",
   "execution_count": 34,
   "id": "390386ea",
   "metadata": {},
   "outputs": [
    {
     "data": {
      "text/plain": [
       "RandomForestRegressor()"
      ]
     },
     "execution_count": 34,
     "metadata": {},
     "output_type": "execute_result"
    }
   ],
   "source": [
    "from sklearn.ensemble import RandomForestRegressor\n",
    "\n",
    "rf_reg = RandomForestRegressor(n_estimators = 100)\n",
    "rf_reg.fit(x_train,y_train)"
   ]
  },
  {
   "cell_type": "code",
   "execution_count": 35,
   "id": "a214ad64",
   "metadata": {},
   "outputs": [
    {
     "data": {
      "text/plain": [
       "dtype('float64')"
      ]
     },
     "execution_count": 35,
     "metadata": {},
     "output_type": "execute_result"
    }
   ],
   "source": [
    "y_train.dtypes"
   ]
  },
  {
   "cell_type": "code",
   "execution_count": 39,
   "id": "fdcf5580",
   "metadata": {
    "collapsed": true
   },
   "outputs": [
    {
     "data": {
      "text/plain": [
       "array([552.19379102, 490.61519662, 491.12286652, 486.01284319,\n",
       "       550.55077082, 484.62519337, 508.29111083, 532.82233252,\n",
       "       535.17742396, 576.11353309, 446.33853831, 505.93128002,\n",
       "       460.53693514, 560.68239141, 518.12344823, 560.87369373,\n",
       "       440.86658171, 554.89747239, 649.6273796 , 462.66648764,\n",
       "       476.14333663, 520.95160683, 525.63491852, 553.72643309,\n",
       "       526.31386032, 509.98225309, 540.34805945, 458.31504458,\n",
       "       414.24405615, 622.49178337, 398.04739843, 505.44854137,\n",
       "       509.78919328, 595.69343067, 423.51887063, 415.53320309,\n",
       "       419.09361691, 494.47298947, 505.51317833, 394.7963289 ,\n",
       "       374.69142657, 483.12843158, 461.73168578, 482.00778895,\n",
       "       564.53036122, 431.57029869, 387.09810698, 427.77934623,\n",
       "       408.50624679, 472.93084407, 561.53685126, 467.68734996,\n",
       "       511.9469259 , 517.20442857, 364.58713104, 399.21282017,\n",
       "       555.89863495, 482.14310669, 481.94984286, 472.12927315,\n",
       "       562.33824159, 586.8612643 , 495.94335161, 516.43000462,\n",
       "       467.25765523, 349.76742343, 475.40526317, 464.61750267,\n",
       "       531.04595642, 557.92639712, 527.78460438, 503.87900239,\n",
       "       417.78852609, 407.4117877 , 465.32252566, 482.16614484,\n",
       "       538.65130112, 526.31986512, 614.45101098, 496.1788822 ,\n",
       "       550.60221301, 640.88618012, 543.0393051 , 555.0337744 ,\n",
       "       450.92532254, 549.0790389 , 414.95356246, 486.86211127,\n",
       "       369.02132664, 684.22438697, 676.33670939, 534.18906056,\n",
       "       402.94762727, 522.96402903, 554.67071962, 413.54000991,\n",
       "       480.47023708, 528.83351465, 489.46808557, 478.15123192,\n",
       "       474.57795347, 501.89960022, 507.41509434, 457.90002342,\n",
       "       536.47692767, 527.82103841, 504.26934729, 536.58869064,\n",
       "       496.24908239, 537.98325906, 494.00915961, 510.26078065,\n",
       "       579.21846371, 508.66916113, 511.86512283, 480.36123587,\n",
       "       513.17419412, 662.03418163, 424.47102039, 537.46383678,\n",
       "       441.93054106, 566.81980433, 404.97235751, 528.158431  ,\n",
       "       519.8014091 , 654.58335735, 422.94940302, 522.91711972,\n",
       "       523.57152494, 469.36668203, 566.82427869, 451.27003111,\n",
       "       516.71928289, 561.3987684 , 511.6965321 , 550.8284201 ,\n",
       "       414.43259618, 448.09319414, 489.83701333, 556.48870939,\n",
       "       469.21568937, 504.30866525, 530.13504043, 436.80730984,\n",
       "       422.06417712, 455.35716307, 569.45461077, 526.49418324,\n",
       "       432.43986908, 507.99055267, 497.0864445 , 567.3493909 ,\n",
       "       574.966931  , 507.06529679, 501.5590609 , 527.22612474,\n",
       "       552.04967094, 578.44956619, 339.98848534, 555.11443049,\n",
       "       569.24476824, 537.20257938, 504.85529316, 497.97079649,\n",
       "       425.3923194 , 563.10715794, 557.34654577, 498.00446591,\n",
       "       441.50399025, 544.98276933, 445.92022919, 549.43108577,\n",
       "       479.48340562, 543.79943931, 375.39873807, 526.32190191,\n",
       "       391.11897929, 517.97987562, 483.02654729, 564.35590825,\n",
       "       556.02574584, 575.76672232, 475.4834935 , 535.70176502,\n",
       "       516.38648459, 431.47074895, 341.02390621, 482.68886257,\n",
       "       504.81242325, 493.52620493, 562.13985518, 590.82274443,\n",
       "       670.45072839, 400.85045681, 478.63691469, 651.11511595,\n",
       "       446.0409966 , 407.35054694, 528.25353476, 490.13121859,\n",
       "       517.76633286, 537.35502966, 527.84604234, 484.90534069,\n",
       "       477.24609872, 533.95962121, 421.46331221, 563.10417429,\n",
       "       403.61810091, 421.14825804, 555.51361874, 410.27591318,\n",
       "       512.90645898, 494.42311118, 422.00028557, 552.86872336,\n",
       "       455.5724496 , 502.58263317, 539.38621953, 467.12621801,\n",
       "       572.8349155 , 560.67707615, 360.35539777, 469.28428612,\n",
       "       620.16993692, 520.1426759 , 543.68927897, 509.51627996,\n",
       "       500.9762446 , 432.76479855, 397.35652093, 393.26832128,\n",
       "       552.69327678, 589.5306196 , 541.0333829 , 457.83573733,\n",
       "       499.46721828, 568.73543836, 410.93671305, 525.73253546,\n",
       "       497.9856145 , 435.57561294, 401.47551557, 476.65694455,\n",
       "       474.2114905 , 435.33701319, 549.5876845 , 553.65987832,\n",
       "       486.48116216, 343.55191156, 576.51836194, 516.59996624,\n",
       "       436.76634565, 562.02967819, 448.07903445, 454.9367277 ,\n",
       "       668.86217289, 481.27874633, 509.41035122, 521.47338685,\n",
       "       397.47101051, 519.56555665, 467.84170212, 561.33877801,\n",
       "       469.48318468, 479.47660093, 558.40580216, 481.43584762,\n",
       "       611.012993  , 532.95403432, 418.81939462, 581.63028603,\n",
       "       554.02149138, 485.52075171, 642.4504663 , 516.8120837 ,\n",
       "       595.05600071, 541.91965622, 542.3017147 , 415.76293994,\n",
       "       553.25408233, 533.85254308, 533.77238808, 568.20138641,\n",
       "       504.95355948, 359.04282927, 643.46749612, 541.58200864,\n",
       "       482.63211229, 449.74515785, 414.39444899, 473.20762565,\n",
       "       480.28186969, 511.78791496, 479.44305457, 451.30660704,\n",
       "       545.65575443, 397.90777269, 433.12907185, 605.17204766,\n",
       "       478.60231251, 560.3891237 , 573.76927683, 538.86483021,\n",
       "       546.62059608, 456.45324877, 461.873948  , 555.66716558,\n",
       "       412.97366811, 505.01878305, 557.64265773, 469.24371087,\n",
       "       522.38885404, 572.96759096, 415.11058862, 459.25969276,\n",
       "       514.4668872 , 520.9687587 , 497.10462946, 487.92194286,\n",
       "       416.63210287, 470.08767909, 567.32057174, 388.87882935,\n",
       "       532.13224501, 542.65163975, 346.7462516 , 419.7729388 ,\n",
       "       498.18201573, 440.24087851, 499.11688584, 538.76262863,\n",
       "       457.18612586, 456.66179141, 428.47972485, 497.71587482,\n",
       "       568.39775707, 542.64811444, 495.35828489, 592.35301373,\n",
       "       314.58748575, 508.99193086, 536.33124227, 459.45319564,\n",
       "       439.04515881, 531.8274397 , 452.61143976, 490.825523  ,\n",
       "       428.54766647, 669.27618721, 442.17764375, 382.59422675,\n",
       "       520.89371462, 488.64685501, 467.71959676, 564.03995195,\n",
       "       548.14152832, 532.20962767, 452.12468343, 546.45284947,\n",
       "       365.1131062 , 553.65318813, 441.39018425, 483.2249184 ,\n",
       "       487.68073195, 506.34234714, 484.38393261, 468.50198406,\n",
       "       503.68980936, 560.78555898, 430.5501272 , 515.0383684 ,\n",
       "       538.41102342, 567.4036043 , 416.71680016, 450.87655386,\n",
       "       550.45143542, 436.88106422, 437.65111707, 513.59533848,\n",
       "       506.77603785, 444.35386182, 437.95061702, 561.98139964,\n",
       "       553.20142153, 491.83638428, 408.1573341 , 555.06042575,\n",
       "       400.35922697, 541.26076099, 463.67444405, 452.51396974,\n",
       "       470.93804932, 571.0992891 , 340.55457262, 445.98876936,\n",
       "       446.61934576, 630.5945267 , 484.56515866, 496.13395023])"
      ]
     },
     "execution_count": 39,
     "metadata": {},
     "output_type": "execute_result"
    }
   ],
   "source": [
    "y_pred = rf_reg.predict(x_test)\n",
    "y_pred"
   ]
  },
  {
   "cell_type": "code",
   "execution_count": 41,
   "id": "40521d46",
   "metadata": {},
   "outputs": [
    {
     "data": {
      "text/plain": [
       "695.1624441833346"
      ]
     },
     "execution_count": 41,
     "metadata": {},
     "output_type": "execute_result"
    }
   ],
   "source": [
    "from sklearn.metrics import mean_squared_error\n",
    "mse = mean_squared_error(y_test,y_pred)\n",
    "mse"
   ]
  },
  {
   "cell_type": "code",
   "execution_count": 42,
   "id": "7dd15f87",
   "metadata": {},
   "outputs": [
    {
     "data": {
      "text/plain": [
       "RandomForestRegressor(n_estimators=200)"
      ]
     },
     "execution_count": 42,
     "metadata": {},
     "output_type": "execute_result"
    }
   ],
   "source": [
    "#change number of trees \n",
    "rf_reg = RandomForestRegressor(n_estimators = 200)\n",
    "rf_reg.fit(x_train,y_train)"
   ]
  },
  {
   "cell_type": "code",
   "execution_count": 43,
   "id": "993b2703",
   "metadata": {
    "collapsed": true
   },
   "outputs": [
    {
     "data": {
      "text/plain": [
       "array([550.52331387, 484.50714618, 501.08250811, 486.34949385,\n",
       "       558.22337901, 483.36491905, 511.23376398, 540.65566226,\n",
       "       534.48097122, 575.84603882, 445.52502247, 506.93514382,\n",
       "       468.88861034, 558.16024703, 515.43090166, 560.21073266,\n",
       "       441.57486261, 559.13336432, 640.38969544, 463.77964035,\n",
       "       474.09759988, 525.6296266 , 522.43058756, 555.61529942,\n",
       "       527.22601861, 507.42784686, 542.47750115, 464.98865022,\n",
       "       407.18814028, 614.15622875, 396.92219631, 513.42158793,\n",
       "       510.85844898, 595.88272003, 425.96496958, 417.23168914,\n",
       "       418.76498442, 495.06827262, 512.74985371, 386.40384717,\n",
       "       373.0014201 , 480.26561411, 457.78529662, 482.98891419,\n",
       "       564.29134295, 432.52478129, 379.66329891, 431.54493546,\n",
       "       408.61338638, 479.94801757, 559.74512613, 468.84559444,\n",
       "       520.40242784, 520.127006  , 356.95080772, 393.52426747,\n",
       "       554.58290396, 492.78914928, 481.69663657, 471.1181084 ,\n",
       "       558.93950899, 580.90712412, 499.92249475, 519.83253441,\n",
       "       463.86493122, 347.89693551, 477.75609205, 467.31766336,\n",
       "       525.05039259, 560.19081936, 522.17997098, 506.64309279,\n",
       "       415.43136617, 404.14276297, 466.35251966, 483.65697483,\n",
       "       545.0259555 , 528.44338599, 609.03620276, 490.59472192,\n",
       "       551.94465548, 642.67023119, 548.35616553, 557.01278737,\n",
       "       452.39142819, 555.70694878, 412.8713355 , 486.03951602,\n",
       "       365.86681303, 678.08043545, 662.20060005, 544.33446512,\n",
       "       409.87926173, 523.15236233, 559.56862022, 423.40861989,\n",
       "       480.09013453, 528.43818632, 495.68659952, 479.79006008,\n",
       "       473.8691283 , 499.87724039, 506.23686503, 464.74678585,\n",
       "       534.29810855, 526.52908388, 503.08691715, 538.58928772,\n",
       "       502.72118076, 533.78112048, 489.85988221, 507.38546492,\n",
       "       583.68196721, 506.33650048, 508.53605798, 482.78539273,\n",
       "       512.73120977, 650.57273761, 433.00757013, 540.1085787 ,\n",
       "       446.11081601, 569.28199429, 404.40447972, 528.37209905,\n",
       "       519.46535249, 651.55823778, 424.41544161, 525.40294558,\n",
       "       526.79250291, 472.56987957, 567.65441694, 448.73554774,\n",
       "       512.80976511, 561.28774938, 513.86938237, 546.549938  ,\n",
       "       414.22632726, 450.49402294, 490.47971892, 562.36848342,\n",
       "       473.74873033, 506.6431786 , 538.23267856, 444.47639658,\n",
       "       432.74572282, 457.22361246, 566.80081341, 522.92266578,\n",
       "       442.69540919, 510.21333828, 498.15219836, 566.59415883,\n",
       "       569.63600132, 505.4336392 , 504.95746   , 528.70231946,\n",
       "       554.50843086, 570.72878238, 333.98505219, 549.96913545,\n",
       "       562.7577557 , 540.25228886, 505.84808305, 497.02483933,\n",
       "       426.43663875, 564.85845049, 558.98919634, 497.37930166,\n",
       "       451.26385384, 545.13802932, 444.27663354, 546.62488807,\n",
       "       483.27947979, 545.5192404 , 383.16684522, 527.10868807,\n",
       "       394.1721343 , 530.28419811, 485.93758933, 563.62353321,\n",
       "       554.29703188, 577.39473627, 488.72486401, 536.22197926,\n",
       "       514.19345032, 436.51711753, 342.76293741, 483.78903182,\n",
       "       504.96930052, 492.34299437, 562.56662133, 590.3978132 ,\n",
       "       659.91213917, 399.30023958, 472.89629602, 654.03547772,\n",
       "       449.84345115, 409.98427043, 525.13360031, 483.8356151 ,\n",
       "       521.46869066, 542.83634766, 529.22835635, 485.6994054 ,\n",
       "       474.02110542, 538.43052769, 414.94698134, 561.2911167 ,\n",
       "       399.86565549, 422.80147222, 554.97568037, 416.05596607,\n",
       "       514.49521589, 499.78768695, 422.64641124, 554.71514923,\n",
       "       452.50212002, 497.48018074, 539.05873015, 461.50744884,\n",
       "       574.68382981, 560.11239876, 359.73492444, 467.08454655,\n",
       "       621.59408331, 521.71506049, 546.40639867, 514.075379  ,\n",
       "       505.50921936, 432.56421103, 403.19616632, 393.30780366,\n",
       "       556.16251071, 583.96627308, 545.38763437, 460.38198521,\n",
       "       496.70606668, 566.95329752, 411.77086632, 525.72517188,\n",
       "       500.22862773, 436.67030975, 396.11568036, 476.71757031,\n",
       "       475.71652355, 445.84307099, 550.16516151, 555.68622398,\n",
       "       494.31929081, 342.87738426, 572.17399225, 515.15026681,\n",
       "       441.36972094, 562.30586384, 453.48743442, 451.07532135,\n",
       "       660.7687822 , 493.57339911, 512.12677432, 521.94462451,\n",
       "       389.73395324, 524.24058847, 470.0121462 , 563.45271433,\n",
       "       471.35137346, 479.60353878, 559.73923967, 480.8189613 ,\n",
       "       604.45318665, 527.14813998, 413.07544568, 584.91906558,\n",
       "       560.26408405, 486.51795645, 646.62377923, 517.3103203 ,\n",
       "       591.15581493, 549.70493411, 545.86214979, 409.85174932,\n",
       "       553.03003771, 536.03424247, 533.90066636, 567.57693377,\n",
       "       505.50136819, 361.3252831 , 644.43844319, 546.31990278,\n",
       "       481.52699409, 445.36727412, 411.17492453, 473.55652868,\n",
       "       483.37129261, 513.16421839, 479.37141948, 445.15542647,\n",
       "       550.48640509, 400.25888706, 439.28493686, 589.94473593,\n",
       "       479.40369568, 564.85065248, 575.72355445, 540.53435604,\n",
       "       540.80774172, 456.33109766, 461.68343853, 555.59702003,\n",
       "       412.24897172, 499.09035162, 556.38993766, 471.56501232,\n",
       "       521.45212041, 563.17575997, 417.21335553, 460.03831634,\n",
       "       510.37005199, 523.14553551, 503.5751565 , 490.33498524,\n",
       "       423.77246517, 468.45283549, 566.43099741, 386.44290319,\n",
       "       527.54634914, 546.10196372, 338.25093417, 427.5723132 ,\n",
       "       500.24563595, 442.07461141, 501.14226261, 538.6588434 ,\n",
       "       464.3159851 , 458.68473537, 432.29611209, 498.09903206,\n",
       "       569.70636157, 540.82081701, 493.17779014, 589.79658573,\n",
       "       314.32431275, 511.8549938 , 537.03268344, 454.1153212 ,\n",
       "       440.60439839, 535.53026395, 457.76886928, 495.27166442,\n",
       "       429.61256825, 662.96200597, 445.64694034, 384.80793072,\n",
       "       522.77167275, 491.17647846, 476.86834597, 561.96162483,\n",
       "       547.00412127, 533.79309294, 447.2152077 , 548.69379681,\n",
       "       367.7789252 , 554.81101368, 444.50974568, 486.87946544,\n",
       "       489.08066494, 505.8347902 , 484.1033595 , 468.59972188,\n",
       "       500.3739287 , 560.75724276, 434.38366029, 506.84900389,\n",
       "       535.02454258, 571.68807133, 415.50543623, 452.27711461,\n",
       "       550.99818032, 440.32572046, 445.50018081, 512.73626316,\n",
       "       505.57574132, 446.76939891, 448.36807465, 560.54365356,\n",
       "       555.11105075, 493.63663195, 402.67234674, 556.19066188,\n",
       "       399.94942694, 543.12536791, 464.7042298 , 455.84191414,\n",
       "       466.75496592, 572.06978224, 343.21644747, 447.52377421,\n",
       "       456.37658161, 629.057085  , 483.85112628, 501.20918518])"
      ]
     },
     "execution_count": 43,
     "metadata": {},
     "output_type": "execute_result"
    }
   ],
   "source": [
    "y_pred = rf_reg.predict(x_test)\n",
    "y_pred"
   ]
  },
  {
   "cell_type": "code",
   "execution_count": 44,
   "id": "775d16bd",
   "metadata": {},
   "outputs": [
    {
     "data": {
      "text/plain": [
       "721.088807815529"
      ]
     },
     "execution_count": 44,
     "metadata": {},
     "output_type": "execute_result"
    }
   ],
   "source": [
    "from sklearn.metrics import mean_squared_error\n",
    "mse = mean_squared_error(y_test,y_pred)\n",
    "mse"
   ]
  },
  {
   "cell_type": "code",
   "execution_count": 46,
   "id": "972139ee",
   "metadata": {},
   "outputs": [
    {
     "data": {
      "text/plain": [
       "0.9830182276509296"
      ]
     },
     "execution_count": 46,
     "metadata": {},
     "output_type": "execute_result"
    }
   ],
   "source": [
    "from sklearn.metrics import r2_score,mean_absolute_error\n",
    "r2_score = r2_score(y_test,y_predict)\n",
    "r2_score\n"
   ]
  },
  {
   "cell_type": "code",
   "execution_count": 47,
   "id": "e1fd871e",
   "metadata": {},
   "outputs": [
    {
     "data": {
      "text/plain": [
       "8.100907677998949"
      ]
     },
     "execution_count": 47,
     "metadata": {},
     "output_type": "execute_result"
    }
   ],
   "source": [
    "mean_absolute_error = mean_absolute_error(y_test,y_predict)\n",
    "mean_absolute_error"
   ]
  },
  {
   "cell_type": "code",
   "execution_count": 48,
   "id": "63a8a0fd",
   "metadata": {},
   "outputs": [
    {
     "data": {
      "text/plain": [
       "0.9799493670886076"
      ]
     },
     "execution_count": 48,
     "metadata": {},
     "output_type": "execute_result"
    }
   ],
   "source": [
    "adjusted_r2 = 1-(1-0.98)*(400-4)/(400-4-1)   \n",
    "adjusted_r2"
   ]
  },
  {
   "cell_type": "code",
   "execution_count": null,
   "id": "aeb65597",
   "metadata": {},
   "outputs": [],
   "source": []
  }
 ],
 "metadata": {
  "kernelspec": {
   "display_name": "Python 3 (ipykernel)",
   "language": "python",
   "name": "python3"
  },
  "language_info": {
   "codemirror_mode": {
    "name": "ipython",
    "version": 3
   },
   "file_extension": ".py",
   "mimetype": "text/x-python",
   "name": "python",
   "nbconvert_exporter": "python",
   "pygments_lexer": "ipython3",
   "version": "3.9.12"
  }
 },
 "nbformat": 4,
 "nbformat_minor": 5
}
